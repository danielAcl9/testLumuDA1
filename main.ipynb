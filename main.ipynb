{
 "cells": [
  {
   "cell_type": "code",
   "execution_count": null,
   "metadata": {},
   "outputs": [],
   "source": [
    "!pip install "
   ]
  },
  {
   "cell_type": "code",
   "execution_count": 11,
   "metadata": {},
   "outputs": [],
   "source": [
    "import requests"
   ]
  },
  {
   "cell_type": "markdown",
   "metadata": {},
   "source": [
    "Step by step:\n",
    "1. Read the file.\n",
    "2. Format.\n",
    "3. Send to endpoint in chunks of 500.\n",
    "4. Use the endpoint response to make the statistics.\n",
    "5. Print the statistics."
   ]
  },
  {
   "cell_type": "code",
   "execution_count": null,
   "metadata": {},
   "outputs": [],
   "source": [
    "# obj =[\n",
    "#     { \n",
    "#         \"timestamp\": \"7-Jul-2022 16:34:13.003\", \n",
    "#         \"name\": \"0x55adcc672cc0\",\n",
    "#         \"client_ip\": \"45.231.61.2\",\n",
    "#         \"client_name\": \"pizzaseo.com\",\n",
    "#         \"type\": \"A\" \n",
    "#     },\n",
    "#     { \n",
    "#         \"timestamp\": \"2021-01-06T14:37:02.228Z\", \n",
    "#         \"name\": \"www.example.com\",\n",
    "#         \"client_ip\": \"\n",
    "#     }\n",
    "# ]"
   ]
  },
  {
   "cell_type": "code",
   "execution_count": 19,
   "metadata": {},
   "outputs": [
    {
     "name": "stdout",
     "output_type": "stream",
     "text": [
      "{\"name\":\"DeserializationException\",\"detail\":\"JsResultException(errors:List((,List(JsonValidationError(List(error.expected.jsarray),WrappedArray())))))\"}\n"
     ]
    }
   ],
   "source": [
    "url = 'https://api.lumu.io/collectors/5ab55d08-ae72-4017-a41c-d9d735360288/dns/queries?key=d39a0f19-7278-4a64-a255-b7646d1ace80'\n",
    "myobj = {\"timestamp\": \"7-Jul-2022 16:34:13.003\", \"name\": \"0x55adcc672cc0\", \"client_ip\": \"45.231.61.2\", \"client_name\": \"pizzaseo.com\", \"type\": \"A\"}\n",
    "\n",
    "response = requests.post(url, json=myobj)\n",
    "\n",
    "print(response.text)"
   ]
  }
 ],
 "metadata": {
  "kernelspec": {
   "display_name": "Python 3",
   "language": "python",
   "name": "python3"
  },
  "language_info": {
   "codemirror_mode": {
    "name": "ipython",
    "version": 3
   },
   "file_extension": ".py",
   "mimetype": "text/x-python",
   "name": "python",
   "nbconvert_exporter": "python",
   "pygments_lexer": "ipython3",
   "version": "3.11.9"
  }
 },
 "nbformat": 4,
 "nbformat_minor": 2
}
